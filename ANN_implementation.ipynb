{
  "nbformat": 4,
  "nbformat_minor": 0,
  "metadata": {
    "colab": {
      "provenance": [],
      "authorship_tag": "ABX9TyMtop6wfcZBXfcTcatAvPxo",
      "include_colab_link": true
    },
    "kernelspec": {
      "name": "python3",
      "display_name": "Python 3"
    },
    "language_info": {
      "name": "python"
    }
  },
  "cells": [
    {
      "cell_type": "markdown",
      "metadata": {
        "id": "view-in-github",
        "colab_type": "text"
      },
      "source": [
        "<a href=\"https://colab.research.google.com/github/JS555555/ANN-implementation/blob/implementing-ANN-using-numpy/ANN_implementation.ipynb\" target=\"_parent\"><img src=\"https://colab.research.google.com/assets/colab-badge.svg\" alt=\"Open In Colab\"/></a>"
      ]
    },
    {
      "cell_type": "code",
      "execution_count": 183,
      "metadata": {
        "id": "qH4rgbJqyEj4"
      },
      "outputs": [],
      "source": [
        "from sklearn import datasets\n",
        "from sklearn.utils import shuffle\n",
        "import numpy as np\n",
        "import matplotlib.pyplot as plt"
      ]
    },
    {
      "cell_type": "markdown",
      "source": [
        "### Data preprocessing"
      ],
      "metadata": {
        "id": "uj8lhBXPSYC5"
      }
    },
    {
      "cell_type": "code",
      "source": [
        "X, y = datasets.make_classification(n_samples=10000, n_features=5, n_informative=3, n_classes=4)\n",
        "\n",
        "# Standardization\n",
        "X_standarized = (X - X.mean())/X.std()\n",
        "\n",
        "\n",
        "# Spliting data into test and train\n",
        "N = X.shape[0]\n",
        "\n",
        "X_train, y_train = X_standarized[:int(N*0.8)], y[:int(N*0.8)]\n",
        "X_test, y_test = X_standarized[int(N*0.8):], y[int(N*0.8):]\n",
        "\n",
        "# One-hot encoding targets\n",
        "y_train_onehot = np.zeros((y_train.size, y_train.max() + 1))\n",
        "y_train_onehot[np.arange(y_train.size), y_train] = 1\n",
        "y_test_onehot = np.zeros((y_test.size, y_test.max() + 1))\n",
        "y_test_onehot[np.arange(y_test.size), y_test] = 1"
      ],
      "metadata": {
        "id": "VMXSEhJ3yfUb"
      },
      "execution_count": 202,
      "outputs": []
    },
    {
      "cell_type": "markdown",
      "source": [
        "###Implementing ANN using numpy"
      ],
      "metadata": {
        "id": "3CU18z5PSzm9"
      }
    },
    {
      "cell_type": "code",
      "source": [
        "def forward(X, W1, b1, W2, b2):\n",
        "    Z = X.dot(W1) + b1\n",
        "    Z[Z < 0] = 0\n",
        "\n",
        "    A = Z.dot(W2) + b2\n",
        "    expA = np.exp(A)\n",
        "    pY = expA / expA.sum(axis=1, keepdims=True)\n",
        "    return pY, Z"
      ],
      "metadata": {
        "id": "gZYScfTT_00m"
      },
      "execution_count": 212,
      "outputs": []
    },
    {
      "cell_type": "code",
      "source": [
        "def derivative_w2(Z, Y, pY):\n",
        "    return Z.T.dot(pY - Y)\n",
        "\n",
        "def derivative_b2(Y, pY):\n",
        "    return (pY - Y).sum(axis=0)\n",
        "\n",
        "def derivative_w1(X, Z, Y, pY, W2):\n",
        "    return X.T.dot( ( ( pY-Y ).dot(W2.T) * (Z > 0) ) )\n",
        "\n",
        "def derivative_b1(Z, Y, pY, W2):\n",
        "    return (( pY-Y ).dot(W2.T) * (Z > 0)).sum(axis=0)"
      ],
      "metadata": {
        "id": "feED0SY8_aY_"
      },
      "execution_count": 213,
      "outputs": []
    },
    {
      "cell_type": "code",
      "source": [
        "def classification_rate(Y, pY):\n",
        "    return np.mean(Y == pY)\n",
        "\n",
        "def cross_entropy(Y, pY):\n",
        "    return -np.mean(Y * np.log(pY+10e-7))"
      ],
      "metadata": {
        "id": "XadqsbjJB55_"
      },
      "execution_count": 214,
      "outputs": []
    },
    {
      "cell_type": "code",
      "source": [
        "iterations = 500\n",
        "append_iterations = 50\n",
        "\n",
        "learning_rate = 10e-8\n",
        "\n",
        "N, D = X_train.shape\n",
        "K = len(set(y))\n",
        "M = 500 # number of hidden units\n",
        "\n",
        "batch_size = 500\n",
        "n_batches = N // batch_size\n",
        "\n",
        "W1 = np.random.randn(D, M) / np.sqrt(D)\n",
        "b1 = np.zeros(M)\n",
        "W2 = np.random.randn(M, K) / np.sqrt(M)\n",
        "b2 = np.zeros(K)\n",
        "\n",
        "cost_train = []\n",
        "cost_test = []\n",
        "\n",
        "classification_rate_train = []\n",
        "classification_rate_test = []\n",
        "\n",
        "\n",
        "mu = 0.9\n",
        "dW2 = 0\n",
        "db2 = 0\n",
        "dW1 = 0\n",
        "db1 = 0\n",
        "\n",
        "# SGD\n",
        "for i in range(iterations):\n",
        "    for j in range(n_batches):\n",
        "        Xbatch = X_train[j*batch_size:(j*batch_size + batch_size),]\n",
        "        Ybatch = y_train_onehot[j*batch_size:(j*batch_size + batch_size),]\n",
        "        pYbatch, Z = forward(Xbatch, W1, b1, W2, b2)\n",
        "\n",
        "        # gradients\n",
        "        gW2 = derivative_w2(Z, Ybatch, pYbatch)\n",
        "        gb2 = derivative_b2(Ybatch, pYbatch)\n",
        "        gW1 = derivative_w1(Xbatch, Z, Ybatch, pYbatch, W2)\n",
        "        gb1 = derivative_b1(Z, Ybatch, pYbatch, W2)\n",
        "\n",
        "        # update velocities\n",
        "        dW2 = mu*dW2 - learning_rate*gW2\n",
        "        db2 = mu*db2 - learning_rate*gb2\n",
        "        dW1 = mu*dW1 - learning_rate*gW1\n",
        "        db1 = mu*db1 - learning_rate*gb1\n",
        "\n",
        "        # updates\n",
        "        W2 += dW2\n",
        "        b2 += db2\n",
        "        W1 += dW1\n",
        "        b1 += db1\n",
        "\n",
        "        if j % append_iterations == 0:\n",
        "            # train set\n",
        "            pY, _ = forward(X_train, W1, b1, W2, b2)\n",
        "            l = cross_entropy(pY, y_train_onehot)\n",
        "            cost_train.append(l)\n",
        "\n",
        "            e = classification_rate(np.argmax(pY, axis=1), y_train)\n",
        "            classification_rate_train.append(e)\n",
        "\n",
        "            # test set\n",
        "            pY_test, _ = forward(X_test, W1, b1, W2, b2)\n",
        "            l_test = cross_entropy(pY_test, y_test_onehot)\n",
        "            cost_test.append(l_test)\n",
        "\n",
        "            e_test = classification_rate(np.argmax(pY_test, axis=1), y_test)\n",
        "            classification_rate_test.append(e_test)"
      ],
      "metadata": {
        "id": "OCilh0-_0MiT"
      },
      "execution_count": 215,
      "outputs": []
    },
    {
      "cell_type": "code",
      "source": [
        "plt.plot(cost_train, label=\"cost_train\")\n",
        "plt.plot(cost_test, label=\"cost_test\")\n",
        "plt.legend();"
      ],
      "metadata": {
        "colab": {
          "base_uri": "https://localhost:8080/",
          "height": 430
        },
        "id": "SRGTm8Kx6hxG",
        "outputId": "88e6be0a-e253-429c-e0a4-c6d703213edc"
      },
      "execution_count": 216,
      "outputs": [
        {
          "output_type": "display_data",
          "data": {
            "text/plain": [
              "<Figure size 640x480 with 1 Axes>"
            ],
            "image/png": "[encoded data removed]"
          },
          "metadata": {}
        }
      ]
    },
    {
      "cell_type": "code",
      "source": [
        "plt.plot(classification_rate_train, label=\"classification_rate_train\")\n",
        "plt.plot(classification_rate_test, label=\"classification_rate_test\")\n",
        "plt.legend();"
      ],
      "metadata": {
        "colab": {
          "base_uri": "https://localhost:8080/",
          "height": 430
        },
        "id": "EKFGaOHLH5F3",
        "outputId": "198f6f34-94ee-44c3-88a8-e054639843bb"
      },
      "execution_count": 217,
      "outputs": [
        {
          "output_type": "display_data",
          "data": {
            "text/plain": [
              "<Figure size 640x480 with 1 Axes>"
            ],
            "image/png": "[encoded data removed]"
          },
          "metadata": {}
        }
      ]
    },
    {
      "cell_type": "markdown",
      "source": [
        "###Implementing ANN using TensorFlow\n"
      ],
      "metadata": {
        "id": "SXuohdOdaAn3"
      }
    },
    {
      "cell_type": "code",
      "source": [],
      "metadata": {
        "colab": {
          "base_uri": "https://localhost:8080/"
        },
        "id": "8iyUoz9zaVN1",
        "outputId": "f85de0e0-6ac5-4c8d-d09f-92ece7f18b5d"
      },
      "execution_count": 195,
      "outputs": [
        {
          "output_type": "execute_result",
          "data": {
            "text/plain": [
              "True"
            ]
          },
          "metadata": {},
          "execution_count": 195
        }
      ]
    },
    {
      "cell_type": "code",
      "source": [],
      "metadata": {
        "id": "4cQ5YuR2a6W1"
      },
      "execution_count": null,
      "outputs": []
    }
  ]
}